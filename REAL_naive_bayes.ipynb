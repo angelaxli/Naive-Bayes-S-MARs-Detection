{
  "cells": [
    {
      "cell_type": "markdown",
      "metadata": {
        "id": "view-in-github",
        "colab_type": "text"
      },
      "source": [
        "<a href=\"https://colab.research.google.com/github/angelaxli/Naive-Bayes-S-MARs-Detection/blob/main/REAL_naive_bayes.ipynb\" target=\"_parent\"><img src=\"https://colab.research.google.com/assets/colab-badge.svg\" alt=\"Open In Colab\"/></a>"
      ]
    },
    {
      "cell_type": "code",
      "execution_count": null,
      "metadata": {
        "colab": {
          "base_uri": "https://localhost:8080/"
        },
        "id": "mWhm440GyoA8",
        "outputId": "cd89f516-abf4-4c78-abc3-da02b3907d48"
      },
      "outputs": [
        {
          "metadata": {
            "tags": null
          },
          "name": "stderr",
          "output_type": "stream",
          "text": [
            "Installing package into ‘/usr/local/lib/R/site-library’\n",
            "(as ‘lib’ is unspecified)\n",
            "\n",
            "'getOption(\"repos\")' replaces Bioconductor standard repositories, see\n",
            "'help(\"repositories\", package = \"BiocManager\")' for details.\n",
            "Replacement repositories:\n",
            "    CRAN: https://cran.rstudio.com\n",
            "\n",
            "Bioconductor version 3.20 (BiocManager 1.30.25), R 4.4.2 (2024-10-31)\n",
            "\n",
            "Installing package(s) 'BiocVersion', 'Biostrings'\n",
            "\n",
            "also installing the dependencies ‘zlibbioc’, ‘UCSC.utils’, ‘GenomeInfoDbData’, ‘BiocGenerics’, ‘S4Vectors’, ‘IRanges’, ‘XVector’, ‘GenomeInfoDb’\n",
            "\n",
            "\n",
            "Loading required package: caret\n",
            "\n",
            "Warning message in library(package, lib.loc = lib.loc, character.only = TRUE, logical.return = TRUE, :\n",
            "“there is no package called ‘caret’”\n",
            "Installing package into ‘/usr/local/lib/R/site-library’\n",
            "(as ‘lib’ is unspecified)\n",
            "\n",
            "also installing the dependencies ‘listenv’, ‘parallelly’, ‘future’, ‘globals’, ‘shape’, ‘future.apply’, ‘numDeriv’, ‘progressr’, ‘SQUAREM’, ‘diagram’, ‘lava’, ‘prodlim’, ‘proxy’, ‘iterators’, ‘clock’, ‘gower’, ‘hardhat’, ‘ipred’, ‘timeDate’, ‘e1071’, ‘foreach’, ‘ModelMetrics’, ‘plyr’, ‘pROC’, ‘recipes’, ‘reshape2’\n",
            "\n",
            "\n",
            "Warning message in install.packages(\"caret\"):\n",
            "“installation of package ‘ModelMetrics’ had non-zero exit status”\n"
          ]
        }
      ],
      "source": [
        "if (!requireNamespace(\"BiocManager\", quietly = TRUE))\n",
        "    install.packages(\"BiocManager\")\n",
        "BiocManager::install(\"Biostrings\")\n",
        "if (!require(caret)) install.packages(\"caret\")"
      ]
    },
    {
      "cell_type": "code",
      "execution_count": null,
      "metadata": {
        "id": "Ru9-KNARy28_",
        "colab": {
          "base_uri": "https://localhost:8080/"
        },
        "outputId": "0142db3c-4c28-48e4-9937-240d91f6287a"
      },
      "outputs": [
        {
          "output_type": "stream",
          "name": "stderr",
          "text": [
            "Loading required package: BiocGenerics\n",
            "\n",
            "\n",
            "Attaching package: ‘BiocGenerics’\n",
            "\n",
            "\n",
            "The following objects are masked from ‘package:stats’:\n",
            "\n",
            "    IQR, mad, sd, var, xtabs\n",
            "\n",
            "\n",
            "The following objects are masked from ‘package:base’:\n",
            "\n",
            "    anyDuplicated, aperm, append, as.data.frame, basename, cbind,\n",
            "    colnames, dirname, do.call, duplicated, eval, evalq, Filter, Find,\n",
            "    get, grep, grepl, intersect, is.unsorted, lapply, Map, mapply,\n",
            "    match, mget, order, paste, pmax, pmax.int, pmin, pmin.int,\n",
            "    Position, rank, rbind, Reduce, rownames, sapply, saveRDS, setdiff,\n",
            "    table, tapply, union, unique, unsplit, which.max, which.min\n",
            "\n",
            "\n",
            "Loading required package: S4Vectors\n",
            "\n",
            "Loading required package: stats4\n",
            "\n",
            "\n",
            "Attaching package: ‘S4Vectors’\n",
            "\n",
            "\n",
            "The following object is masked from ‘package:utils’:\n",
            "\n",
            "    findMatches\n",
            "\n",
            "\n",
            "The following objects are masked from ‘package:base’:\n",
            "\n",
            "    expand.grid, I, unname\n",
            "\n",
            "\n",
            "Loading required package: IRanges\n",
            "\n",
            "Loading required package: XVector\n",
            "\n",
            "Loading required package: GenomeInfoDb\n",
            "\n",
            "\n",
            "Attaching package: ‘Biostrings’\n",
            "\n",
            "\n",
            "The following object is masked from ‘package:base’:\n",
            "\n",
            "    strsplit\n",
            "\n",
            "\n",
            "── \u001b[1mAttaching core tidyverse packages\u001b[22m ──────────────────────── tidyverse 2.0.0 ──\n",
            "\u001b[32m✔\u001b[39m \u001b[34mdplyr    \u001b[39m 1.1.4     \u001b[32m✔\u001b[39m \u001b[34mreadr    \u001b[39m 2.1.5\n",
            "\u001b[32m✔\u001b[39m \u001b[34mforcats  \u001b[39m 1.0.0     \u001b[32m✔\u001b[39m \u001b[34mstringr  \u001b[39m 1.5.1\n",
            "\u001b[32m✔\u001b[39m \u001b[34mggplot2  \u001b[39m 3.5.1     \u001b[32m✔\u001b[39m \u001b[34mtibble   \u001b[39m 3.2.1\n",
            "\u001b[32m✔\u001b[39m \u001b[34mlubridate\u001b[39m 1.9.3     \u001b[32m✔\u001b[39m \u001b[34mtidyr    \u001b[39m 1.3.1\n",
            "\u001b[32m✔\u001b[39m \u001b[34mpurrr    \u001b[39m 1.0.2     \n",
            "── \u001b[1mConflicts\u001b[22m ────────────────────────────────────────── tidyverse_conflicts() ──\n",
            "\u001b[31m✖\u001b[39m \u001b[34mlubridate\u001b[39m::\u001b[32m%within%()\u001b[39m masks \u001b[34mIRanges\u001b[39m::%within%()\n",
            "\u001b[31m✖\u001b[39m \u001b[34mdplyr\u001b[39m::\u001b[32mcollapse()\u001b[39m     masks \u001b[34mBiostrings\u001b[39m::collapse(), \u001b[34mIRanges\u001b[39m::collapse()\n",
            "\u001b[31m✖\u001b[39m \u001b[34mdplyr\u001b[39m::\u001b[32mcombine()\u001b[39m      masks \u001b[34mBiocGenerics\u001b[39m::combine()\n",
            "\u001b[31m✖\u001b[39m \u001b[34mpurrr\u001b[39m::\u001b[32mcompact()\u001b[39m      masks \u001b[34mXVector\u001b[39m::compact()\n",
            "\u001b[31m✖\u001b[39m \u001b[34mdplyr\u001b[39m::\u001b[32mdesc()\u001b[39m         masks \u001b[34mIRanges\u001b[39m::desc()\n",
            "\u001b[31m✖\u001b[39m \u001b[34mtidyr\u001b[39m::\u001b[32mexpand()\u001b[39m       masks \u001b[34mS4Vectors\u001b[39m::expand()\n",
            "\u001b[31m✖\u001b[39m \u001b[34mdplyr\u001b[39m::\u001b[32mfilter()\u001b[39m       masks \u001b[34mstats\u001b[39m::filter()\n",
            "\u001b[31m✖\u001b[39m \u001b[34mdplyr\u001b[39m::\u001b[32mfirst()\u001b[39m        masks \u001b[34mS4Vectors\u001b[39m::first()\n",
            "\u001b[31m✖\u001b[39m \u001b[34mdplyr\u001b[39m::\u001b[32mlag()\u001b[39m          masks \u001b[34mstats\u001b[39m::lag()\n",
            "\u001b[31m✖\u001b[39m \u001b[34mggplot2\u001b[39m::\u001b[32mPosition()\u001b[39m   masks \u001b[34mBiocGenerics\u001b[39m::Position(), \u001b[34mbase\u001b[39m::Position()\n",
            "\u001b[31m✖\u001b[39m \u001b[34mpurrr\u001b[39m::\u001b[32mreduce()\u001b[39m       masks \u001b[34mIRanges\u001b[39m::reduce()\n",
            "\u001b[31m✖\u001b[39m \u001b[34mdplyr\u001b[39m::\u001b[32mrename()\u001b[39m       masks \u001b[34mS4Vectors\u001b[39m::rename()\n",
            "\u001b[31m✖\u001b[39m \u001b[34mlubridate\u001b[39m::\u001b[32msecond()\u001b[39m   masks \u001b[34mS4Vectors\u001b[39m::second()\n",
            "\u001b[31m✖\u001b[39m \u001b[34mlubridate\u001b[39m::\u001b[32msecond<-()\u001b[39m masks \u001b[34mS4Vectors\u001b[39m::second<-()\n",
            "\u001b[31m✖\u001b[39m \u001b[34mdplyr\u001b[39m::\u001b[32mslice()\u001b[39m        masks \u001b[34mXVector\u001b[39m::slice(), \u001b[34mIRanges\u001b[39m::slice()\n",
            "\u001b[36mℹ\u001b[39m Use the conflicted package (\u001b[3m\u001b[34m<http://conflicted.r-lib.org/>\u001b[39m\u001b[23m) to force all conflicts to become errors\n",
            "Loading required package: lattice\n",
            "\n",
            "\n",
            "Attaching package: ‘caret’\n",
            "\n",
            "\n",
            "The following object is masked from ‘package:purrr’:\n",
            "\n",
            "    lift\n",
            "\n",
            "\n"
          ]
        }
      ],
      "source": [
        "library(Biostrings)\n",
        "library(e1071)\n",
        "library(tidyverse)\n",
        "library(caret)"
      ]
    },
    {
      "cell_type": "code",
      "execution_count": null,
      "metadata": {
        "id": "N6fAXG8_zbGg"
      },
      "outputs": [],
      "source": [
        "# Function to compute k-mer counts for a sequence\n",
        "compute_kmer_counts <- function(sequence, k = 4) {\n",
        "  # Convert sequence to a DNAString object\n",
        "  dna_seq <- DNAString(sequence)\n",
        "\n",
        "  # Generate all possible k-mers for given k\n",
        "  kmers <- oligonucleotideFrequency(dna_seq, width = k)\n",
        "\n",
        "  # Convert named vector to data frame\n",
        "  as.data.frame(as.list(kmers))\n",
        "}\n"
      ]
    },
    {
      "cell_type": "code",
      "source": [
        "# Apply k-mer counting to each sequence\n",
        "data <- read.csv(\"naive bayes data.csv\")\n",
        "data$Sequence <- gsub(\"[^ATGC]\", \"\", data$Sequence)\n",
        "k <- 4  # Set the desired k-mer length\n",
        "kmer_features <- do.call(rbind, lapply(data$Sequence, compute_kmer_counts, k = k))\n",
        "\n",
        "# Combine k-mer features with the target column\n",
        "data_prepared <- cbind(kmer_features, Target = data$Target)"
      ],
      "metadata": {
        "id": "UVv29zu1RLx4"
      },
      "execution_count": null,
      "outputs": []
    },
    {
      "cell_type": "code",
      "source": [
        "# Split the data into training and test sets\n",
        "set.seed(123)\n",
        "train_index <- sample(1:nrow(data_prepared), 0.7 * nrow(data_prepared))\n",
        "train_data <- data_prepared[train_index, ]\n",
        "test_data <- data_prepared[-train_index, ]\n",
        "\n",
        "# Train the Naive Bayes model\n",
        "model <- naiveBayes(Target ~ ., data = train_data)\n",
        "\n",
        "# Make predictions on the test set\n",
        "predictions <- predict(model, test_data)"
      ],
      "metadata": {
        "id": "4vEdF7JORmF4"
      },
      "execution_count": null,
      "outputs": []
    },
    {
      "cell_type": "code",
      "source": [
        "#Issue: unbalanced dataset(between class imbalance)\n",
        "confusion_matrix <- table(Predicted = predictions, Actual = test_data$Target)\n",
        "print(confusion_matrix)"
      ],
      "metadata": {
        "colab": {
          "base_uri": "https://localhost:8080/"
        },
        "id": "Q-MiyIlOSHFx",
        "outputId": "7ee07f35-ca7b-4b63-d06e-08e59ba8b1fd"
      },
      "execution_count": null,
      "outputs": [
        {
          "output_type": "stream",
          "name": "stdout",
          "text": [
            "         Actual\n",
            "Predicted   0   1\n",
            "        0  11   0\n",
            "        1   1 131\n"
          ]
        }
      ]
    },
    {
      "cell_type": "code",
      "source": [
        "# Evaluate model accuracy\n",
        "accuracy <- mean(predictions == test_data$Target)\n",
        "cat(\"Model Accuracy:\", accuracy, \"\\n\")"
      ],
      "metadata": {
        "colab": {
          "base_uri": "https://localhost:8080/"
        },
        "id": "mOFnJytXRtvY",
        "outputId": "2d3c2021-061e-48e1-ed8d-faac37d3e0f9"
      },
      "execution_count": null,
      "outputs": [
        {
          "output_type": "stream",
          "name": "stdout",
          "text": [
            "Model Accuracy: 0.993007 \n"
          ]
        }
      ]
    },
    {
      "cell_type": "code",
      "source": [
        "test_data$Target <- factor(test_data$Target)\n",
        "predictions <- factor(predictions, levels = levels(test_data$Target))\n",
        "\n",
        "#Generate the confusion matrix\n",
        "confusion <- confusionMatrix(predictions, test_data$Target)\n",
        "\n",
        "# Display confusion matrix and metrics\n",
        "print(confusion)"
      ],
      "metadata": {
        "colab": {
          "base_uri": "https://localhost:8080/"
        },
        "id": "BrXWQJGcKFFP",
        "outputId": "54ad5db4-e845-432e-90f1-8797d68da4b6"
      },
      "execution_count": null,
      "outputs": [
        {
          "output_type": "stream",
          "name": "stdout",
          "text": [
            "Confusion Matrix and Statistics\n",
            "\n",
            "          Reference\n",
            "Prediction   0   1\n",
            "         0  11   0\n",
            "         1   1 131\n",
            "                                          \n",
            "               Accuracy : 0.993           \n",
            "                 95% CI : (0.9617, 0.9998)\n",
            "    No Information Rate : 0.9161          \n",
            "    P-Value [Acc > NIR] : 5.081e-05       \n",
            "                                          \n",
            "                  Kappa : 0.9527          \n",
            "                                          \n",
            " Mcnemar's Test P-Value : 1               \n",
            "                                          \n",
            "            Sensitivity : 0.91667         \n",
            "            Specificity : 1.00000         \n",
            "         Pos Pred Value : 1.00000         \n",
            "         Neg Pred Value : 0.99242         \n",
            "             Prevalence : 0.08392         \n",
            "         Detection Rate : 0.07692         \n",
            "   Detection Prevalence : 0.07692         \n",
            "      Balanced Accuracy : 0.95833         \n",
            "                                          \n",
            "       'Positive' Class : 0               \n",
            "                                          \n"
          ]
        }
      ]
    },
    {
      "cell_type": "code",
      "source": [
        "# Extract specific metrics\n",
        "accuracy <- confusion$overall['Accuracy']\n",
        "precision <- confusion$byClass['Pos Pred Value']  # This is Precision\n",
        "recall <- confusion$byClass['Sensitivity']        # This is Recall\n",
        "f1_score <- (2 * precision * recall) / (precision + recall)  # F1 Score\n",
        "\n",
        "cat(\"Accuracy:\", accuracy, \"\\n\")\n",
        "cat(\"Precision:\", precision, \"\\n\")\n",
        "cat(\"Recall:\", recall, \"\\n\")\n",
        "cat(\"F1 Score:\", f1_score, \"\\n\")"
      ],
      "metadata": {
        "colab": {
          "base_uri": "https://localhost:8080/"
        },
        "id": "7e94iDo2FoQe",
        "outputId": "d40b8c3b-2cbb-40b4-ebe3-712f33d19550"
      },
      "execution_count": null,
      "outputs": [
        {
          "output_type": "stream",
          "name": "stdout",
          "text": [
            "Accuracy: 0.993007 \n",
            "Precision: 1 \n",
            "Recall: 0.9166667 \n",
            "F1 Score: 0.9565217 \n"
          ]
        }
      ]
    }
  ],
  "metadata": {
    "colab": {
      "provenance": [],
      "include_colab_link": true
    },
    "kernelspec": {
      "display_name": "R",
      "name": "ir"
    },
    "language_info": {
      "name": "R"
    }
  },
  "nbformat": 4,
  "nbformat_minor": 0
}